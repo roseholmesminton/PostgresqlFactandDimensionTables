{
 "cells": [
  {
   "cell_type": "code",
   "execution_count": 1,
   "metadata": {},
   "outputs": [],
   "source": [
    "import psycopg2"
   ]
  },
  {
   "cell_type": "markdown",
   "metadata": {},
   "source": [
    "Create a connection to the database, get a cursor, and set autocommit to true"
   ]
  },
  {
   "cell_type": "code",
   "execution_count": 2,
   "metadata": {},
   "outputs": [],
   "source": [
    "try:\n",
    "    conn = psycopg2.connect(\n",
    "        \"dbname=student user=postgres password=corbla99\")\n",
    "except psycopg2.Error as e:\n",
    "    print(\"Error: Could not make connection to the Postgres database\")\n",
    "    print(e)\n",
    "try:\n",
    "    cur = conn.cursor()\n",
    "except psycopg2.Error as e:\n",
    "    print(\"Error: Could not get cursor to the Database\")\n",
    "    print(e)\n",
    "conn.set_session(autocommit=True)\n"
   ]
  },
  {
   "cell_type": "markdown",
   "metadata": {},
   "source": [
    "For this exercise I will create a STAR schema using one fact table and 3 star point dimension tables\n",
    "The fact table is a customer transactions table\n",
    "The dimension tables are Items purchased, Store and Customer table"
   ]
  },
  {
   "cell_type": "code",
   "execution_count": 3,
   "metadata": {},
   "outputs": [],
   "source": [
    "#TO-DO: Create the Fact table and insert the data into the table\n",
    "\n",
    "try:\n",
    "    cur.execute(\"CREATE TABLE IF NOT EXISTS customer_transactions(customer_id int, store_id int, amount_spent float);\")\n",
    "\n",
    "except psycopg2.Error as e:\n",
    "    print(\"Error: Issue creating table\")\n",
    "    print(e)\n",
    "\n",
    "#Insert data into table\n",
    "\n",
    "try:\n",
    "    cur.execute(\"INSERT INTO customer_transactions(customer_id, store_id, amount_spent) \\\n",
    "                VALUES (%s, %s, %s)\",\n",
    "                (1, 1, 20.50))\n",
    "except psycopg2.Error as e:\n",
    "    print(\"Error: Inserting Rows\")\n",
    "    print(e)\n",
    "\n",
    "try:\n",
    "    cur.execute(\"INSERT INTO customer_transactions(customer_id, store_id, amount_spent) \\\n",
    "                VALUES (%s, %s, %s)\",\n",
    "                (2, 1, 35.21))\n",
    "except psycopg2.Error as e:\n",
    "    print(\"Error: Inserting Rows\")\n",
    "    print(e)\n"
   ]
  },
  {
   "cell_type": "markdown",
   "metadata": {},
   "source": [
    "Create the Dimensions tables and insert data into those tables"
   ]
  },
  {
   "cell_type": "code",
   "execution_count": 4,
   "metadata": {},
   "outputs": [],
   "source": [
    "try:\n",
    "    cur.execute(\"CREATE TABLE IF NOT EXISTS customer(customer_id int, customer_name varchar, rewards_member boolean);\")\n",
    "\n",
    "except psycopg2.Error as e: \n",
    "    print(\"Error: Issue creating table\")\n",
    "    print (e)\n",
    "    \n",
    "try:\n",
    "    cur.execute(\"INSERT INTO customer(customer_id, customer_name, rewards_member)\\\n",
    "                VALUES (%s, %s, %s)\",\n",
    "                (1,\"Amanda\", \"Y\"))\n",
    "\n",
    "except psycopg2.Error as e: \n",
    "    print(\"Error: Inserting Rows\")\n",
    "    print (e)\n",
    "    \n",
    "try: \n",
    "    cur.execute(\"INSERT INTO customer(customer_id, customer_name, rewards_member)\\\n",
    "                VALUES (%s, %s, %s)\",\n",
    "                    (2, \"Toby\", \"N\"))\n",
    "\n",
    "except psycopg2.Error as e: \n",
    "    print(\"Error: Inserting Rows\")\n",
    "    print (e)\n",
    "    \n",
    "try: \n",
    "    cur.execute(\"CREATE TABLE IF NOT EXISTS store(store_id int, store_state varchar);\")\n",
    "\n",
    "except psycopg2.Error as e: \n",
    "    print(\"Error: Issue creating table\")\n",
    "    print (e)\n",
    "    \n",
    "try: \n",
    "    cur.execute(\"INSERT INTO store(store_id, store_state)\\\n",
    "                VALUES(%s, %s)\",\n",
    "                (1, \"CA\"))\n",
    "\n",
    "except psycopg2.Error as e: \n",
    "    print(\"Error: Inserting Rows\")\n",
    "    print (e)\n",
    "\n",
    "try: \n",
    "    cur.execute(\"INSERT INTO store(store_id, store_state)\\\n",
    "                VALUES(%s, %s)\",                 \n",
    "                (2, \"WA\"))\n",
    "\n",
    "except psycopg2.Error as e: \n",
    "    print(\"Error: Inserting Rows\")\n",
    "    print (e)\n",
    "    \n",
    "try: \n",
    "    cur.execute(\n",
    "        \"CREATE TABLE IF NOT EXISTS items_purchased(customer_id int, item_number int, item_name varchar);\")\n",
    "except psycopg2.Error as e: \n",
    "    print(\"Error: Issue creating table\")\n",
    "    print (e)\n",
    "    \n",
    "try: \n",
    "    cur.execute(\"INSERT INTO items_purchased(customer_id, item_number, item_name)\\\n",
    "                VALUES(%s, %s, %s)\",\n",
    "                (1, 1, \"Rubber Soul\" ))\n",
    "\n",
    "except psycopg2.Error as e: \n",
    "    print(\"Error: Inserting Rows\")\n",
    "    print (e)\n",
    "\n",
    "try: \n",
    "    cur.execute(\"INSERT INTO items_purchased(customer_id, item_number, item_name)\\\n",
    "                VALUES(%s, %s, %s)\",\n",
    "                (2, 1, \"Let It Be\"))\n",
    "\n",
    "except psycopg2.Error as e: \n",
    "    print(\"Error: Inserting Rows\")\n",
    "    print (e)"
   ]
  },
  {
   "cell_type": "markdown",
   "metadata": {},
   "source": [
    "Query 1: Find all the customers that spent more than 30 dollars, who are they, which store they bought it from, location of the store, what they bought and if they are a rewards member."
   ]
  },
  {
   "cell_type": "code",
   "execution_count": 5,
   "metadata": {},
   "outputs": [
    {
     "name": "stdout",
     "output_type": "stream",
     "text": [
      "('Toby', 1, 'CA', 'Let It Be', False)\n"
     ]
    }
   ],
   "source": [
    "try:\n",
    "    cur.execute(\"SELECT customer_name, customer_transactions.store_id, store_state, item_name, rewards_member\\\n",
    "                FROM customer_transactions \\\n",
    "                JOIN customer\\\n",
    "                ON customer_transactions.customer_id = customer.customer_id\\\n",
    "                JOIN store\\\n",
    "                ON customer_transactions.store_id = store.store_id\\\n",
    "                JOIN items_purchased\\\n",
    "                ON customer_transactions.customer_id = items_purchased.customer_id\\\n",
    "                WHERE amount_spent >30;\")\n",
    "\n",
    "except psycopg2.Error as e:\n",
    "    print(\"Error: select *\")\n",
    "    print(e)\n",
    "\n",
    "row = cur.fetchone()\n",
    "while row:\n",
    "   print(row)\n",
    "   row = cur.fetchone()\n"
   ]
  },
  {
   "cell_type": "markdown",
   "metadata": {},
   "source": [
    "Query 2: How much did Customer 2 spend?"
   ]
  },
  {
   "cell_type": "code",
   "execution_count": 6,
   "metadata": {},
   "outputs": [
    {
     "name": "stdout",
     "output_type": "stream",
     "text": [
      "(2, 35.21)\n"
     ]
    }
   ],
   "source": [
    "try:\n",
    "    cur.execute(\"SELECT customer_id, amount_spent\\\n",
    "                FROM customer_transactions \\\n",
    "                WHERE customer_id = 2;\")\n",
    "\n",
    "except psycopg2.Error as e:\n",
    "    print(\"Error: select *\")\n",
    "    print(e)\n",
    "\n",
    "row = cur.fetchone()\n",
    "while row:\n",
    "   print(row)\n",
    "   row = cur.fetchone()\n"
   ]
  },
  {
   "cell_type": "markdown",
   "metadata": {},
   "source": [
    "Drop the tables"
   ]
  },
  {
   "cell_type": "code",
   "execution_count": 7,
   "metadata": {},
   "outputs": [],
   "source": [
    "try:\n",
    "    cur.execute(\"DROP TABLE customer_transactions\")\n",
    "\n",
    "except psycopg2.Error as e:\n",
    "    print(\"Error: Dropping table\")\n",
    "    print(e)\n",
    "\n",
    "try:\n",
    "    cur.execute(\"DROP TABLE customer\")\n",
    "\n",
    "except psycopg2.Error as e:\n",
    "    print(\"Error: Dropping table\")\n",
    "    print(e)\n",
    "\n",
    "try:\n",
    "    cur.execute(\"DROP TABLE store\")\n",
    "\n",
    "except psycopg2.Error as e:\n",
    "    print(\"Error: Dropping table\")\n",
    "    print(e)\n",
    "\n",
    "try:\n",
    "    cur.execute(\"DROP TABLE items_purchased\")\n",
    "\n",
    "except psycopg2.Error as e:\n",
    "    print(\"Error: Dropping table\")\n",
    "    print(e)\n"
   ]
  },
  {
   "cell_type": "markdown",
   "metadata": {},
   "source": [
    "Close cursor and connection"
   ]
  },
  {
   "cell_type": "code",
   "execution_count": 8,
   "metadata": {},
   "outputs": [],
   "source": [
    "cur.close()\n",
    "conn.close()"
   ]
  },
  {
   "cell_type": "markdown",
   "metadata": {},
   "source": []
  }
 ],
 "metadata": {
  "kernelspec": {
   "display_name": "Python 3.10.5 ('rosey-wcFTU90W')",
   "language": "python",
   "name": "python3"
  },
  "language_info": {
   "codemirror_mode": {
    "name": "ipython",
    "version": 3
   },
   "file_extension": ".py",
   "mimetype": "text/x-python",
   "name": "python",
   "nbconvert_exporter": "python",
   "pygments_lexer": "ipython3",
   "version": "3.10.5"
  },
  "orig_nbformat": 4,
  "vscode": {
   "interpreter": {
    "hash": "eb7652d52890883b63eb01b5c0a1f4a769ab7221433862fcf2160aaf76350eb9"
   }
  }
 },
 "nbformat": 4,
 "nbformat_minor": 2
}
